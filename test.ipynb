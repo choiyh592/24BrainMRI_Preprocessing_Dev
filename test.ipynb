{
 "cells": [
  {
   "cell_type": "code",
   "execution_count": 2,
   "metadata": {},
   "outputs": [
    {
     "name": "stdout",
     "output_type": "stream",
     "text": [
      "Resampling all images...\n"
     ]
    }
   ],
   "source": [
    "from lab2im.resampleAll import resampleAll\n",
    "\n",
    "dir1 = ['/home/yhchoi/22BMTest/510328_1201_3d_t1_tfe_sag_f_gd_resampled.nii.gz']\n",
    "dir2 = ['/home/yhchoi/22BMTest/Resampled/510328_1201_3d_t1_tfe_sag_f_gd_resampled.nii.gz']\n",
    "\n",
    "resampleAll(dir1, dir2, [1, 1, 1], 'nearest')"
   ]
  }
 ],
 "metadata": {
  "kernelspec": {
   "display_name": "Preprocessing",
   "language": "python",
   "name": "preprocessing"
  },
  "language_info": {
   "codemirror_mode": {
    "name": "ipython",
    "version": 3
   },
   "file_extension": ".py",
   "mimetype": "text/x-python",
   "name": "python",
   "nbconvert_exporter": "python",
   "pygments_lexer": "ipython3",
   "version": "3.10.4"
  }
 },
 "nbformat": 4,
 "nbformat_minor": 2
}
